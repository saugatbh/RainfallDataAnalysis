{
  "nbformat": 4,
  "nbformat_minor": 0,
  "metadata": {
    "colab": {
      "name": "ComparisonRNN.ipynb",
      "provenance": [],
      "mount_file_id": "1YOb1k36vaUQtMV5MgVyOVvDiAJz47Wkd",
      "authorship_tag": "ABX9TyOV7hdbMiqOKdh7fDF+Hk9r",
      "include_colab_link": true
    },
    "kernelspec": {
      "name": "python3",
      "display_name": "Python 3"
    }
  },
  "cells": [
    {
      "cell_type": "markdown",
      "metadata": {
        "id": "view-in-github",
        "colab_type": "text"
      },
      "source": [
        "<a href=\"https://colab.research.google.com/github/saugatbh/RainfallDataAnalysis/blob/main/ComparisonRNN.ipynb\" target=\"_parent\"><img src=\"https://colab.research.google.com/assets/colab-badge.svg\" alt=\"Open In Colab\"/></a>"
      ]
    },
    {
      "cell_type": "code",
      "metadata": {
        "id": "XDu7A97t-MIa"
      },
      "source": [
        "import os\r\n",
        "import pdb\r\n",
        "\r\n",
        "import IPython.display\r\n",
        "import matplotlib.pyplot as plt\r\n",
        "import seaborn as sns\r\n",
        "import numpy as np\r\n",
        "import tensorflow as tf\r\n",
        "from sklearn.metrics import mean_squared_error"
      ],
      "execution_count": 1,
      "outputs": []
    },
    {
      "cell_type": "code",
      "metadata": {
        "colab": {
          "base_uri": "https://localhost:8080/"
        },
        "id": "c-m744Pb-X17",
        "outputId": "ba8aa4f5-8f11-4895-a8d0-aaab0906da3e"
      },
      "source": [
        "data = np.load('/content/drive/MyDrive/rainfall_data.npy')\r\n",
        "print(data.shape)"
      ],
      "execution_count": 2,
      "outputs": [
        {
          "output_type": "stream",
          "text": [
            "(115, 12, 129, 135)\n"
          ],
          "name": "stdout"
        }
      ]
    },
    {
      "cell_type": "code",
      "metadata": {
        "id": "KJUxhoYP_bGJ"
      },
      "source": [
        "jan = data[:,0,:,:]#using only Jan data"
      ],
      "execution_count": 3,
      "outputs": []
    },
    {
      "cell_type": "code",
      "metadata": {
        "colab": {
          "base_uri": "https://localhost:8080/"
        },
        "id": "t-iZWqEg3f9_",
        "outputId": "fbddac56-5e1d-46cc-d60b-e42a9871a0f0"
      },
      "source": [
        "sel_loc = (64, 74)\r\n",
        "loc_data = data[:, :, sel_loc[0], sel_loc[1]].ravel()#using all months data for next one month prediction\r\n",
        "#loc_data = jan[:,sel_loc[0], sel_loc[1]].ravel()\r\n",
        "loc_data = loc_data[:, None]\r\n",
        "print(loc_data.shape)"
      ],
      "execution_count": 3,
      "outputs": [
        {
          "output_type": "stream",
          "text": [
            "(1380, 1)\n"
          ],
          "name": "stdout"
        }
      ]
    },
    {
      "cell_type": "code",
      "metadata": {
        "id": "z5hNX57S-dg6"
      },
      "source": [
        "n = loc_data.size\r\n",
        "train_data = loc_data[0:int(n*0.7)]\r\n",
        "val_data = loc_data[int(n*0.7):int(n*0.9)]\r\n",
        "test_data = loc_data[int(n*0.9):]"
      ],
      "execution_count": 4,
      "outputs": []
    },
    {
      "cell_type": "code",
      "metadata": {
        "id": "LdTsEbQ6-gjG"
      },
      "source": [
        "train_mean = np.mean(train_data)\r\n",
        "train_std = np.std(train_data)\r\n",
        "\r\n",
        "train_data = (train_data - train_mean) / train_std\r\n",
        "val_data = (val_data - train_mean) / train_std\r\n",
        "test_data = (test_data - train_mean) / train_std"
      ],
      "execution_count": 5,
      "outputs": []
    },
    {
      "cell_type": "code",
      "metadata": {
        "id": "vmJ2wlwz-t3y"
      },
      "source": [
        "# generate windows of data for the model\r\n",
        "class WindowGenerator():\r\n",
        "  def __init__(self, input_width, label_width, shift,\r\n",
        "               train_df=train_data, val_df=val_data, test_df=test_data):\r\n",
        "    # Store the raw data.\r\n",
        "    self.train_df = train_df\r\n",
        "    self.val_df = val_df\r\n",
        "    self.test_df = test_df\r\n",
        "\r\n",
        "    # Work out the window parameters.\r\n",
        "    self.input_width = input_width\r\n",
        "    self.label_width = label_width\r\n",
        "    self.shift = shift\r\n",
        "\r\n",
        "    self.total_window_size = input_width + shift\r\n",
        "\r\n",
        "    self.input_slice = slice(0, input_width)\r\n",
        "    self.input_indices = np.arange(self.total_window_size)[self.input_slice]\r\n",
        "\r\n",
        "    self.label_start = self.total_window_size - self.label_width\r\n",
        "    self.labels_slice = slice(self.label_start, None)\r\n",
        "    self.label_indices = np.arange(self.total_window_size)[self.labels_slice]\r\n",
        "\r\n",
        "  def __repr__(self):\r\n",
        "    return '\\n'.join([\r\n",
        "        f'Total window size: {self.total_window_size}',\r\n",
        "        f'Input indices: {self.input_indices}',\r\n",
        "        f'Label indices: {self.label_indices}'])"
      ],
      "execution_count": 6,
      "outputs": []
    },
    {
      "cell_type": "code",
      "metadata": {
        "id": "F9qq7y-C-zOr"
      },
      "source": [
        "def split_window(self, features):\r\n",
        "  inputs = features[:, self.input_slice, :]\r\n",
        "  labels = features[:, self.labels_slice, :]\r\n",
        "\r\n",
        "  # Slicing doesn't preserve static shape information, so set the shapes\r\n",
        "  # manually. This way the `tf.data.Datasets` are easier to inspect.\r\n",
        "  inputs.set_shape([None, self.input_width, None])\r\n",
        "  labels.set_shape([None, self.label_width, None])\r\n",
        "\r\n",
        "  return inputs, labels\r\n",
        "\r\n",
        "WindowGenerator.split_window = split_window"
      ],
      "execution_count": 7,
      "outputs": []
    },
    {
      "cell_type": "code",
      "metadata": {
        "id": "wLLDChvy-3JO"
      },
      "source": [
        "def make_dataset(self, data):\r\n",
        "  data = np.array(data, dtype=np.float32)\r\n",
        "  ds = tf.keras.preprocessing.timeseries_dataset_from_array(\r\n",
        "      data=data,\r\n",
        "      targets=None,\r\n",
        "      sequence_length=self.total_window_size,\r\n",
        "      sequence_stride=1,\r\n",
        "      shuffle=True,\r\n",
        "      batch_size=32,)\r\n",
        "\r\n",
        "  ds = ds.map(self.split_window)\r\n",
        "\r\n",
        "  return ds\r\n",
        "\r\n",
        "WindowGenerator.make_dataset = make_dataset"
      ],
      "execution_count": 8,
      "outputs": []
    },
    {
      "cell_type": "code",
      "metadata": {
        "id": "XJAl1BPX-7qu"
      },
      "source": [
        "@property\r\n",
        "def train(self):\r\n",
        "  return self.make_dataset(self.train_df)\r\n",
        "\r\n",
        "@property\r\n",
        "def val(self):\r\n",
        "  return self.make_dataset(self.val_df)\r\n",
        "\r\n",
        "@property\r\n",
        "def test(self):\r\n",
        "  return self.make_dataset(self.test_df)\r\n",
        "\r\n",
        "@property\r\n",
        "def example(self):\r\n",
        "  \"\"\"Get and cache an example batch of `inputs, labels` for plotting.\"\"\"\r\n",
        "  result = getattr(self, '_example', None)\r\n",
        "  if result is None:\r\n",
        "    # No example batch was found, so get one from the `.train` dataset\r\n",
        "    result = next(iter(self.train))\r\n",
        "    # And cache it for next time\r\n",
        "    self._example = result\r\n",
        "  return result\r\n",
        "\r\n",
        "WindowGenerator.train = train\r\n",
        "WindowGenerator.val = val\r\n",
        "WindowGenerator.test = test\r\n",
        "WindowGenerator.example = example"
      ],
      "execution_count": 9,
      "outputs": []
    },
    {
      "cell_type": "code",
      "metadata": {
        "id": "VCFbUddZ_SeL"
      },
      "source": [
        "def plot(self, model=None, max_subplots=3):\r\n",
        "  # pdb.set_trace()\r\n",
        "  inputs, labels = self.example\r\n",
        "  plt.figure(figsize=(12, 8))\r\n",
        "  max_n = min(max_subplots, len(inputs))\r\n",
        "  for n in range(max_n):\r\n",
        "    plt.subplot(3, 1, n+1)\r\n",
        "    plt.ylabel(f'Actual Value')\r\n",
        "    plt.plot(self.input_indices, inputs[n, :, 0],\r\n",
        "             label='Inputs', marker='.', zorder=-10)\r\n",
        "\r\n",
        "    plt.scatter(self.label_indices, labels[n, :, 0],\r\n",
        "                edgecolors='k', label='Labels', c='#2ca02c', s=64)\r\n",
        "    \r\n",
        "    if model is not None:\r\n",
        "      predictions = model(inputs)\r\n",
        "      plt.scatter(self.label_indices, predictions[n, :, 0],\r\n",
        "                  marker='X', edgecolors='k', label='Predictions',\r\n",
        "                  c='#ff7f0e', s=64)\r\n",
        "\r\n",
        "    if n == 0:\r\n",
        "      plt.legend()\r\n",
        "\r\n",
        "  plt.xlabel('Time [h]')\r\n",
        "\r\n",
        "WindowGenerator.plot = plot"
      ],
      "execution_count": 10,
      "outputs": []
    },
    {
      "cell_type": "code",
      "metadata": {
        "id": "G0EEUw2L_--K"
      },
      "source": [
        "# create a model with an LSTM\r\n",
        "lstm_model = tf.keras.models.Sequential([\r\n",
        "    tf.keras.layers.LSTM(32, return_sequences=True),\r\n",
        "    #tf.keras.layers.LSTM(32,stateful=True, return_sequences=True),\r\n",
        "    tf.keras.layers.Dense(units=1)\r\n",
        "])"
      ],
      "execution_count": 11,
      "outputs": []
    },
    {
      "cell_type": "code",
      "metadata": {
        "id": "0T7jxVMz_zKG"
      },
      "source": [
        "MAX_EPOCHS = 20\r\n",
        "\r\n",
        "def compile_and_fit(model, window, patience=2):\r\n",
        "  early_stopping = tf.keras.callbacks.EarlyStopping(monitor='mean_absolute_error',\r\n",
        "                                                    patience=patience,\r\n",
        "                                                    mode='min')\r\n",
        "\r\n",
        "  model.compile(loss=tf.losses.MeanSquaredError(),\r\n",
        "                optimizer=tf.optimizers.Adam(),\r\n",
        "                metrics=[tf.metrics.MeanAbsoluteError()])\r\n",
        "\r\n",
        "  history = model.fit(window.train, epochs=MAX_EPOCHS,\r\n",
        "                      validation_data=window.val,\r\n",
        "                      callbacks=[early_stopping])\r\n",
        "  return history"
      ],
      "execution_count": 12,
      "outputs": []
    },
    {
      "cell_type": "code",
      "metadata": {
        "id": "0FcmHupI_x6s"
      },
      "source": [
        "w1_wide = WindowGenerator(input_width=36, label_width=36, shift=1)"
      ],
      "execution_count": 22,
      "outputs": []
    },
    {
      "cell_type": "code",
      "metadata": {
        "colab": {
          "base_uri": "https://localhost:8080/"
        },
        "id": "RtdIyMrcBimJ",
        "outputId": "e45ffdb5-fe10-444b-a2b5-02f38401a929"
      },
      "source": [
        "print('Input shape:', w1_wide.example[0].shape)\r\n",
        "print('Output shape(lstm_model):', lstm_model(w1_wide.example[0]).shape)"
      ],
      "execution_count": 23,
      "outputs": [
        {
          "output_type": "stream",
          "text": [
            "Input shape: (32, 36, 1)\n",
            "Output shape(lstm_model): (32, 36, 1)\n"
          ],
          "name": "stdout"
        }
      ]
    },
    {
      "cell_type": "code",
      "metadata": {
        "colab": {
          "base_uri": "https://localhost:8080/"
        },
        "id": "EuagBWWgfAUX",
        "outputId": "55573fb1-0ff5-4a8a-d1b9-7dcc9eee5fc3"
      },
      "source": [
        "history = compile_and_fit(lstm_model, w1_wide)"
      ],
      "execution_count": 24,
      "outputs": [
        {
          "output_type": "stream",
          "text": [
            "Epoch 1/20\n",
            "30/30 [==============================] - 3s 32ms/step - loss: 0.3238 - mean_absolute_error: 0.3435 - val_loss: 0.3160 - val_mean_absolute_error: 0.3526\n",
            "Epoch 2/20\n",
            "30/30 [==============================] - 1s 19ms/step - loss: 0.3238 - mean_absolute_error: 0.3407 - val_loss: 0.3164 - val_mean_absolute_error: 0.3514\n",
            "Epoch 3/20\n",
            "30/30 [==============================] - 1s 20ms/step - loss: 0.3163 - mean_absolute_error: 0.3414 - val_loss: 0.3064 - val_mean_absolute_error: 0.3455\n",
            "Epoch 4/20\n",
            "30/30 [==============================] - 1s 20ms/step - loss: 0.3218 - mean_absolute_error: 0.3405 - val_loss: 0.3131 - val_mean_absolute_error: 0.3504\n",
            "Epoch 5/20\n",
            "30/30 [==============================] - 1s 25ms/step - loss: 0.3173 - mean_absolute_error: 0.3379 - val_loss: 0.3102 - val_mean_absolute_error: 0.3453\n",
            "Epoch 6/20\n",
            "30/30 [==============================] - 1s 20ms/step - loss: 0.3194 - mean_absolute_error: 0.3412 - val_loss: 0.3084 - val_mean_absolute_error: 0.3482\n",
            "Epoch 7/20\n",
            "30/30 [==============================] - 1s 20ms/step - loss: 0.3146 - mean_absolute_error: 0.3352 - val_loss: 0.3063 - val_mean_absolute_error: 0.3478\n",
            "Epoch 8/20\n",
            "30/30 [==============================] - 1s 19ms/step - loss: 0.3182 - mean_absolute_error: 0.3402 - val_loss: 0.2979 - val_mean_absolute_error: 0.3390\n",
            "Epoch 9/20\n",
            "30/30 [==============================] - 1s 21ms/step - loss: 0.3124 - mean_absolute_error: 0.3360 - val_loss: 0.3052 - val_mean_absolute_error: 0.3413\n",
            "Epoch 10/20\n",
            "30/30 [==============================] - 1s 20ms/step - loss: 0.3120 - mean_absolute_error: 0.3348 - val_loss: 0.3013 - val_mean_absolute_error: 0.3425\n",
            "Epoch 11/20\n",
            "30/30 [==============================] - 1s 20ms/step - loss: 0.3051 - mean_absolute_error: 0.3329 - val_loss: 0.3157 - val_mean_absolute_error: 0.3490\n",
            "Epoch 12/20\n",
            "30/30 [==============================] - 1s 20ms/step - loss: 0.3056 - mean_absolute_error: 0.3344 - val_loss: 0.3101 - val_mean_absolute_error: 0.3539\n",
            "Epoch 13/20\n",
            "30/30 [==============================] - 1s 21ms/step - loss: 0.3097 - mean_absolute_error: 0.3367 - val_loss: 0.3141 - val_mean_absolute_error: 0.3505\n",
            "Epoch 14/20\n",
            "30/30 [==============================] - 1s 20ms/step - loss: 0.3154 - mean_absolute_error: 0.3373 - val_loss: 0.3200 - val_mean_absolute_error: 0.3553\n"
          ],
          "name": "stdout"
        }
      ]
    },
    {
      "cell_type": "code",
      "metadata": {
        "colab": {
          "base_uri": "https://localhost:8080/"
        },
        "id": "3bGNlaQcNTXp",
        "outputId": "a6c84ce7-ee7f-473e-c351-a8416fbd87c2"
      },
      "source": [
        "print(w1_wide.test)"
      ],
      "execution_count": 25,
      "outputs": [
        {
          "output_type": "stream",
          "text": [
            "<MapDataset shapes: ((None, 36, 1), (None, 36, 1)), types: (tf.float32, tf.float32)>\n"
          ],
          "name": "stdout"
        }
      ]
    },
    {
      "cell_type": "code",
      "metadata": {
        "colab": {
          "base_uri": "https://localhost:8080/"
        },
        "id": "-tGCaT5Gexfo",
        "outputId": "a82ecc10-05be-449b-9144-ccaade512152"
      },
      "source": [
        "IPython.display.clear_output()\r\n",
        "print(lstm_model.evaluate(w1_wide.val))\r\n",
        "print(lstm_model.evaluate(w1_wide.test))"
      ],
      "execution_count": 27,
      "outputs": [
        {
          "output_type": "stream",
          "text": [
            "8/8 [==============================] - 0s 4ms/step - loss: 0.3200 - mean_absolute_error: 0.3553\n",
            "[0.3199693262577057, 0.35529622435569763]\n",
            "4/4 [==============================] - 0s 5ms/step - loss: 0.3133 - mean_absolute_error: 0.3585\n",
            "[0.3133189380168915, 0.35848256945610046]\n"
          ],
          "name": "stdout"
        }
      ]
    },
    {
      "cell_type": "code",
      "metadata": {
        "colab": {
          "base_uri": "https://localhost:8080/",
          "height": 498
        },
        "id": "W7hYeDhogTny",
        "outputId": "7808c6af-7a46-4c00-fa3b-03dbe3ce851d"
      },
      "source": [
        "w1_wide.plot(lstm_model)"
      ],
      "execution_count": 28,
      "outputs": [
        {
          "output_type": "display_data",
          "data": {
            "image/png": "[encoded data removed]",
            "text/plain": [
              "<Figure size 864x576 with 3 Axes>"
            ]
          },
          "metadata": {
            "tags": [],
            "needs_background": "light"
          }
        }
      ]
    }
  ]
}