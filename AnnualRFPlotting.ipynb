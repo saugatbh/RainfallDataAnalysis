{
  "nbformat": 4,
  "nbformat_minor": 0,
  "metadata": {
    "colab": {
      "name": "AnnualRFPlotting.ipynb",
      "provenance": [],
      "mount_file_id": "1HA2uMG7W0Ogcxad3FXy_d4QrJclWpT8w",
      "authorship_tag": "ABX9TyODAguj8s5Y6GmYGTY/6uN0",
      "include_colab_link": true
    },
    "kernelspec": {
      "display_name": "Python 3",
      "name": "python3"
    }
  },
  "cells": [
    {
      "cell_type": "markdown",
      "metadata": {
        "id": "view-in-github",
        "colab_type": "text"
      },
      "source": [
        "<a href=\"https://colab.research.google.com/github/saugatbh/RainfallDataAnalysis/blob/main/AnnualRFPlotting.ipynb\" target=\"_parent\"><img src=\"https://colab.research.google.com/assets/colab-badge.svg\" alt=\"Open In Colab\"/></a>"
      ]
    },
    {
      "cell_type": "code",
      "metadata": {
        "id": "XgjNgYqDEEdM"
      },
      "source": [
        "import numpy as np\n",
        "import pandas as pd\n",
        "\n",
        "from sklearn import preprocessing"
      ],
      "execution_count": 29,
      "outputs": []
    },
    {
      "cell_type": "code",
      "metadata": {
        "id": "o3nQ-WaQsNmu"
      },
      "source": [
        "xaxis = np.loadtxt('xaxis.txt')\n",
        "yaxis = np.loadtxt('yaxis.txt')\n",
        "\n",
        "imgpath='/AnnualRFPlots/'\n",
        "if not os.path.exists(imgpath):\n",
        "    os.makedirs(imgpath)\n",
        "xlpath='/AnnualAverageIMDRainfall/'\n",
        "for year in range(1901,2017):\n",
        "  filename=xlpath+'AverageRF'+str(year)+'.xlsx'\n",
        "  rf_xl=np.array(pd.read_excel(filename))\n",
        "  #rf_xl=preprocessing.normalize(rf_xl)\n",
        "  plt.figure(figsize=(30,30))\n",
        "  plt.imshow(rf_xl,interpolation='nearest',cmap='coolwarm')\n",
        "  plt.colorbar()\n",
        "  plt.gca().invert_yaxis()\n",
        "  plt.title('Average Rainfall %s' %str(year))\n",
        "  plt.xlabel('Latitude')\n",
        "  plt.ylabel('Longitude')\n",
        "  plt.xticks(range(len(xaxis)), xaxis)\n",
        "  plt.yticks(range(len(yaxis)), yaxis)\n",
        "  plt.savefig(imgpath+'Year_%s.png' % str(year))\n",
        "  plt.clf()\n"
      ],
      "execution_count": null,
      "outputs": []
    }
  ]
}