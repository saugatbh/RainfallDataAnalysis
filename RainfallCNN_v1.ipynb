{
  "nbformat": 4,
  "nbformat_minor": 0,
  "metadata": {
    "colab": {
      "name": "RainfallCNN.ipynb",
      "provenance": [],
      "mount_file_id": "1xv32FXbI9rU4ZI20pnusqceZOc9Ghdym",
      "authorship_tag": "ABX9TyOp8qL3kiJuicdHsc71Rpz2",
      "include_colab_link": true
    },
    "kernelspec": {
      "name": "python3",
      "display_name": "Python 3"
    },
    "accelerator": "GPU"
  },
  "cells": [
    {
      "cell_type": "markdown",
      "metadata": {
        "id": "view-in-github",
        "colab_type": "text"
      },
      "source": [
        "<a href=\"https://colab.research.google.com/github/saugatbh/RainfallDataAnalysis/blob/main/RainfallCNN_v1.ipynb\" target=\"_parent\"><img src=\"https://colab.research.google.com/assets/colab-badge.svg\" alt=\"Open In Colab\"/></a>"
      ]
    },
    {
      "cell_type": "code",
      "metadata": {
        "id": "LsYHZWeyMXmo"
      },
      "source": [
        "import cv2\n",
        "from keras.models import Sequential\n",
        "from keras.layers import Dense,Dropout,Conv2D,MaxPool2D,Flatten\n",
        "from keras.utils import np_utils\n",
        "import numpy as np\n",
        "import pandas as pd\n",
        "import os\n",
        "\n",
        "path='/content/drive/MyDrive/RainfallDataAnalysis-main/ModifiedFiguresAnnualAvg'\n",
        "images=[]\n",
        "for filename in os.listdir(path):\n",
        "  img = cv2.imread(os.path.join(path,filename))\n",
        "  if img is not None:\n",
        "    images.append(img)\n",
        "images=np.array(images)"
      ],
      "execution_count": 11,
      "outputs": []
    },
    {
      "cell_type": "code",
      "metadata": {
        "id": "IvBBfwplhaLA",
        "outputId": "2a0bdebd-7c9e-4049-99da-04bb88ededac",
        "colab": {
          "base_uri": "https://localhost:8080/"
        }
      },
      "source": [
        "print(images[0].shape)\n",
        "xtrain=images[0:80]\n",
        "ytrain=images[50:100]\n",
        "\n",
        "xtest=images[81:115]\n",
        "ytest=images[50:100]"
      ],
      "execution_count": 12,
      "outputs": [
        {
          "output_type": "stream",
          "text": [
            "(656, 875, 3)\n"
          ],
          "name": "stdout"
        }
      ]
    },
    {
      "cell_type": "code",
      "metadata": {
        "id": "x8Yl4EZAjORT",
        "outputId": "5b2f771e-5238-42fe-9f16-aab2c9f5f050",
        "colab": {
          "base_uri": "https://localhost:8080/"
        }
      },
      "source": [
        "xtrain = xtrain.reshape(xtrain.shape[0], 656, 875, 3)\n",
        "xtest = xtest.reshape(xtest.shape[0], 656, 875, 3)\n",
        "print(xtrain.shape)\n",
        "print(ytrain.shape)\n",
        "print(xtrain.dtype)\n",
        "xtrain = xtrain.astype('float32')\n",
        "xtest = xtest.astype('float32')\n",
        "\n",
        "xtrain /= 255\n",
        "xtest /= 255"
      ],
      "execution_count": 13,
      "outputs": [
        {
          "output_type": "stream",
          "text": [
            "(80, 656, 875, 3)\n",
            "(50, 656, 875, 3)\n",
            "uint8\n"
          ],
          "name": "stdout"
        }
      ]
    },
    {
      "cell_type": "code",
      "metadata": {
        "id": "yQS0_DZpdd3_"
      },
      "source": [
        "nclass=3\n",
        "print(ytrain.shape)\n",
        "print(ytest.shape)\n",
        "ytrain = np_utils.to_categorical(ytrain,nclass)\n",
        "ytest = np_utils.to_categorical(ytest,nclass)\n",
        "print(ytrain.shape)\n",
        "print(ytest.shape)"
      ],
      "execution_count": null,
      "outputs": []
    },
    {
      "cell_type": "code",
      "metadata": {
        "id": "EF64L8n_ej16"
      },
      "source": [
        "model = Sequential()\n",
        "model.add(Conv2D(50,kernel_size=(3,3),strides=(1,1),padding='same',activation='relu',input_shape=(32,32,3)))\n",
        "model.add(Conv2D(75,kernel_size=(3,3),strides=(1,1),padding='same',activation='relu'))\n",
        "model.add(MaxPool2D(pool_size=(2,2)))\n",
        "model.add(Dropout(0.25))\n",
        "\n",
        "model.add(Conv2D(125,kernel_size=(3,3),strides=(1,1),padding='same',activation='relu'))\n",
        "model.add(MaxPool2D(pool_size=(2,2)))\n",
        "model.add(Dropout(0.25))\n",
        "\n",
        "model.add(Flatten())\n",
        "\n",
        "model.add(Dense(500,activation='relu'))\n",
        "model.add(Dropout(0.4))\n",
        "model.add(Dense(250,activation='relu'))\n",
        "model.add(Dropout(0.3))\n",
        "\n",
        "model.add(Dense(10,activation='softmax'))\n",
        "\n",
        "model.compile(loss='categorical_crossentropy',metrics=['accuracy'],optimizer='adam')\n",
        "\n",
        "model.fit(xtrain,ytrain,batch_size=128,epochs=10,validation_data=(xtest,ytest))"
      ],
      "execution_count": null,
      "outputs": []
    }
  ]
}