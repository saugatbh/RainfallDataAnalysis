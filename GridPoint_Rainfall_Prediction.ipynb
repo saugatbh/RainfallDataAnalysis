{
 "cells": [
  {
   "cell_type": "code",
   "execution_count": 1,
   "metadata": {},
   "outputs": [],
   "source": [
    "import pandas as pd\n",
    "import numpy as np\n",
    "from glob import glob\n",
    "\n",
    "from math import sqrt\n",
    "\n",
    "from sklearn.metrics import mean_squared_error\n",
    "from keras.models import Sequential\n",
    "from keras.layers import Dense\n",
    "from keras.layers import Flatten\n",
    "from keras.layers.convolutional import Conv1D\n",
    "from keras.layers.convolutional import MaxPooling1D\n",
    "from matplotlib import pyplot as plt"
   ]
  },
  {
   "cell_type": "code",
   "execution_count": 2,
   "metadata": {},
   "outputs": [],
   "source": [
    "# constants\n",
    "years = np.arange(1901, 2017)\n",
    "DATA_PATH = 'AnnualAverageIMDRainfall/'\n",
    "PREFIX = 'AverageRF'\n",
    "SUFFIX = '.xlsx'\n",
    "filenames = glob(DATA_PATH + '*')\n",
    "#print(filenames)"
   ]
  },
  {
   "cell_type": "code",
   "execution_count": 3,
   "metadata": {},
   "outputs": [
    {
     "name": "stdout",
     "output_type": "stream",
     "text": [
      "(114, 116, 117)\n"
     ]
    }
   ],
   "source": [
    "# load and combine average rainfall data across all years\n",
    "extracted_data = np.zeros((len(filenames), 129, 135))\n",
    "for f, file in enumerate(filenames):\n",
    "    data = pd.read_excel(file, index_col=None, header=None)\n",
    "    extracted_data[f,:,:] = data\n",
    "extracted_data = extracted_data[:, 8:124, 7:-11]\n",
    "print(extracted_data.shape)"
   ]
  },
  {
   "cell_type": "markdown",
   "metadata": {},
   "source": [
    "## Fixed size CNN"
   ]
  },
  {
   "cell_type": "code",
   "execution_count": 4,
   "metadata": {},
   "outputs": [],
   "source": [
    "# split a univariate sequence into samples\n",
    "def split_sequence(sequence, n_steps):\n",
    "\tX, y = list(), list()\n",
    "\tfor i in range(len(sequence)):\n",
    "\t\t# find the end of this pattern\n",
    "\t\tend_ix = i + n_steps\n",
    "\t\t# check if we are beyond the sequence\n",
    "\t\tif end_ix > len(sequence)-1:\n",
    "\t\t\tbreak\n",
    "\t\t# gather input and output parts of the pattern\n",
    "\t\tseq_x, seq_y = sequence[i:end_ix], sequence[end_ix]\n",
    "\t\tX.append(seq_x)\n",
    "\t\ty.append(seq_y)\n",
    "\treturn np.array(X), np.array(y)\n"
   ]
  },
  {
   "cell_type": "code",
   "execution_count": 5,
   "metadata": {},
   "outputs": [
    {
     "name": "stdout",
     "output_type": "stream",
     "text": [
      "(114, 1)\n"
     ]
    }
   ],
   "source": [
    "fixed_grid_data = extracted_data[:, 22, 45].reshape(114, 1)  # random point selection\n",
    "print(fixed_grid_data.shape)\n",
    "\n",
    "def train_test_split(data, n_test, type='feat'):\n",
    "    if type == 'feat':\n",
    "        return data[:-n_test, :, :], data[-n_test:, :, :]\n",
    "    if type == 'label':\n",
    "        return data[:-n_test, :], data[-n_test:, :]"
   ]
  },
  {
   "cell_type": "code",
   "execution_count": 10,
   "metadata": {},
   "outputs": [
    {
     "name": "stdout",
     "output_type": "stream",
     "text": [
      "(44, 70, 1) (44, 1)\n",
      "[array([[3.3853257],\n",
      "       [4.438892 ],\n",
      "       [2.627532 ],\n",
      "       [2.2415671],\n",
      "       [4.4095078],\n",
      "       [3.745247 ],\n",
      "       [2.9407048],\n",
      "       [4.3551607],\n",
      "       [3.2687683],\n",
      "       [2.778056 ],\n",
      "       [3.6382768],\n",
      "       [3.581225 ],\n",
      "       [3.1777232],\n",
      "       [4.7020836],\n",
      "       [3.562611 ],\n",
      "       [1.896085 ]], dtype=float32), array([[3.76438356],\n",
      "       [2.42109589],\n",
      "       [2.28684932],\n",
      "       [2.64098361],\n",
      "       [4.54931507],\n",
      "       [2.5739726 ],\n",
      "       [3.52383562],\n",
      "       [2.77377049],\n",
      "       [2.81013699],\n",
      "       [4.05561644],\n",
      "       [3.57342466],\n",
      "       [2.74972678],\n",
      "       [2.00520548],\n",
      "       [2.01671233],\n",
      "       [5.3290411 ],\n",
      "       [1.68169399]])]\n"
     ]
    }
   ],
   "source": [
    "# split into samples\n",
    "n_steps=70\n",
    "X, y = split_sequence(fixed_grid_data, n_steps)\n",
    "print(X.shape, y.shape)\n",
    "# reshape from [samples, timesteps] into [samples, timesteps, features]\n",
    "n_features = 1\n",
    "X = X.reshape((X.shape[0], X.shape[1], n_features))\n",
    "Xtrain, Xtest = train_test_split(X, 16, type='feat')\n",
    "ytrain, ytest = train_test_split(y, 16, type='label')\n",
    "# define model\n",
    "model = Sequential()\n",
    "model.add(Conv1D(16, 8, activation='relu', input_shape=(n_steps, n_features)))\n",
    "model.add(MaxPooling1D())\n",
    "model.add(Flatten())\n",
    "model.add(Dense(50, activation='relu'))\n",
    "model.add(Dense(1))\n",
    "model.compile(optimizer='adam', loss='mse')\n",
    "# fit model\n",
    "model.fit(Xtrain, ytrain, epochs=1000, verbose=0)\n",
    "# demonstrate prediction\n",
    "yhat = model.predict(Xtest, verbose=0)\n",
    "print([yhat, ytest])"
   ]
  },
  {
   "cell_type": "code",
   "execution_count": 11,
   "metadata": {},
   "outputs": [
    {
     "data": {
      "text/plain": [
       "<matplotlib.legend.Legend at 0x243caa1f820>"
      ]
     },
     "execution_count": 11,
     "metadata": {},
     "output_type": "execute_result"
    },
    {
     "data": {
      "image/png": "[encoded data removed]",
      "text/plain": [
       "<Figure size 432x288 with 1 Axes>"
      ]
     },
     "metadata": {
      "needs_background": "light"
     },
     "output_type": "display_data"
    }
   ],
   "source": [
    "plt.plot(ytest, color = 'blue', label='True')\n",
    "plt.plot(yhat, color = 'red', label='Predicted')\n",
    "plt.legend()"
   ]
  },
  {
   "cell_type": "markdown",
   "metadata": {},
   "source": [
    "## Multi-step CNN"
   ]
  },
  {
   "cell_type": "code",
   "execution_count": 26,
   "metadata": {},
   "outputs": [],
   "source": [
    "# split a univariate dataset into train/test sets\n",
    "def train_test_split(data, n_test):\n",
    "\treturn data[:-n_test], data[-n_test:]\n",
    "\n",
    "# transform list into supervised learning format\n",
    "def series_to_supervised(data, n_in, n_out=1):\n",
    "\tdf = pd.DataFrame(data)\n",
    "\tcols = list()\n",
    "\t# input sequence (t-n, ... t-1)\n",
    "\tfor i in range(n_in, 0, -1):\n",
    "\t\tcols.append(df.shift(i))\n",
    "\t# forecast sequence (t, t+1, ... t+n)\n",
    "\tfor i in range(0, n_out):\n",
    "\t\tcols.append(df.shift(-i))\n",
    "\t# put it all together\n",
    "\tagg = pd.concat(cols, axis=1)\n",
    "\t# drop rows with NaN values\n",
    "\tagg.dropna(inplace=True)\n",
    "\treturn agg.values\n",
    "\n",
    "# root mean squared error or rmse\n",
    "def measure_rmse(actual, predicted):\n",
    "\treturn sqrt(mean_squared_error(actual, predicted))\n",
    "\n",
    "# fit a model\n",
    "def model_fit(train, config):\n",
    "\t# unpack config\n",
    "\tn_input, n_filters, n_kernel, n_epochs, n_batch = config\n",
    "\t# prepare data\n",
    "\tdata = series_to_supervised(train, n_input)\n",
    "\ttrain_x, train_y = data[:, :-1], data[:, -1]\n",
    "\ttrain_x = train_x.reshape((train_x.shape[0], train_x.shape[1], 1))\n",
    "\t# define model\n",
    "\tmodel = Sequential()\n",
    "\tmodel.add(Conv1D(n_filters, n_kernel, activation='relu', input_shape=(n_input, 1)))\n",
    "\tmodel.add(Conv1D(n_filters, n_kernel, activation='relu'))\n",
    "\tmodel.add(MaxPooling1D())\n",
    "\tmodel.add(Flatten())\n",
    "\tmodel.add(Dense(1))\n",
    "\tmodel.compile(loss='mse', optimizer='adam')\n",
    "\t# fit\n",
    "\tmodel.fit(train_x, train_y, epochs=n_epochs, batch_size=n_batch, verbose=0)\n",
    "\treturn model\n",
    "\n",
    "# forecast with a pre-fit model\n",
    "def model_predict(model, history, config):\n",
    "\t# unpack config\n",
    "\tn_input, _, _, _, _ = config\n",
    "\t# prepare data\n",
    "\tx_input = np.array(history[-n_input:]).reshape((1, n_input, 1))\n",
    "\t# forecast\n",
    "\tyhat = model.predict(x_input, verbose=0)\n",
    "\treturn yhat[0]\n",
    "\n",
    "# walk-forward validation for univariate data\n",
    "def walk_forward_validation(data, n_test, cfg):\n",
    "\tpredictions = list()\n",
    "\t# split dataset\n",
    "\ttrain, test = train_test_split(data, n_test)\n",
    "\t# fit model\n",
    "\tmodel = model_fit(train, cfg)\n",
    "\t# seed history with training dataset\n",
    "\thistory = [x for x in train]\n",
    "\t# step over each time-step in the test set\n",
    "\tfor i in range(len(test)):\n",
    "\t\t# fit model and make forecast for history\n",
    "\t\tyhat = model_predict(model, history, cfg)\n",
    "\t\t# store forecast in list of predictions\n",
    "\t\tpredictions.append(yhat)\n",
    "\t\t# add actual observation to history for the next loop\n",
    "\t\thistory.append(test[i])\n",
    "\t# estimate prediction error\n",
    "\terror = measure_rmse(test, predictions)\n",
    "\tprint(' > %.3f' % error)\n",
    "\treturn yhat, test, error\n",
    "\n",
    "# repeat evaluation of a config\n",
    "# def repeat_evaluate(data, config, n_test, n_repeats=30):\n",
    "# \t# fit and evaluate the model n times\n",
    "# \tscores = [walk_forward_validation(data, n_test, config) for _ in range(n_repeats)]\n",
    "# \treturn scores\n",
    "\n",
    "# summarize model performance\n",
    "def summarize_scores(name, scores):\n",
    "\t# print a summary\n",
    "\tscores_m, score_std = np.mean(scores), np.std(scores)\n",
    "\tprint('%s: %.3f RMSE (+/- %.3f)' % (name, scores_m, score_std))\n",
    "\t# box and whisker plot\n",
    "\tplt.boxplot(scores)\n",
    "\tplt.show()"
   ]
  },
  {
   "cell_type": "code",
   "execution_count": 27,
   "metadata": {},
   "outputs": [
    {
     "name": "stdout",
     "output_type": "stream",
     "text": [
      " > 1.067\n"
     ]
    }
   ],
   "source": [
    "# data split\n",
    "n_test = 16\n",
    "# define config\n",
    "config = [36, 256, 3, 100, 100]\n",
    "# grid search\n",
    "predicted, true, scores = walk_forward_validation(fixed_grid_data, n_test, config)\n",
    "# summarize scores\n",
    "# summarize_scores('cnn', scores)"
   ]
  },
  {
   "cell_type": "code",
   "execution_count": 28,
   "metadata": {},
   "outputs": [
    {
     "data": {
      "text/plain": [
       "<matplotlib.legend.Legend at 0x243cb0dc910>"
      ]
     },
     "execution_count": 28,
     "metadata": {},
     "output_type": "execute_result"
    },
    {
     "data": {
      "image/png": "[encoded data removed]",
      "text/plain": [
       "<Figure size 432x288 with 1 Axes>"
      ]
     },
     "metadata": {
      "needs_background": "light"
     },
     "output_type": "display_data"
    }
   ],
   "source": [
    "plt.plot(true, color = 'blue', label='True')\n",
    "plt.plot(predicted, color = 'red', label='Predicted')\n",
    "plt.legend()"
   ]
  },
  {
   "cell_type": "code",
   "execution_count": 29,
   "metadata": {},
   "outputs": [
    {
     "name": "stdout",
     "output_type": "stream",
     "text": [
      "2.164709 [3.76438356]\n"
     ]
    }
   ],
   "source": [
    "print(predicted[0], true[0])"
   ]
  }
 ],
 "metadata": {
  "kernelspec": {
   "display_name": "Python 3",
   "language": "python",
   "name": "python3"
  },
  "language_info": {
   "codemirror_mode": {
    "name": "ipython",
    "version": 3
   },
   "file_extension": ".py",
   "mimetype": "text/x-python",
   "name": "python",
   "nbconvert_exporter": "python",
   "pygments_lexer": "ipython3",
   "version": "3.8.6"
  }
 },
 "nbformat": 4,
 "nbformat_minor": 4
}
